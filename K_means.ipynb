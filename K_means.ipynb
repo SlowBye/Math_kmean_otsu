{
 "cells": [
  {
   "cell_type": "code",
   "execution_count": 1,
   "metadata": {},
   "outputs": [],
   "source": [
    "from skimage import io\n",
    "from skimage import exposure\n",
    "from skimage import filters\n",
    "from skimage import util\n",
    "import matplotlib.pyplot as plt\n",
    "import numpy as np\n",
    "from math import sqrt"
   ]
  },
  {
   "cell_type": "markdown",
   "metadata": {},
   "source": [
    "# Projet"
   ]
  },
  {
   "cell_type": "markdown",
   "metadata": {},
   "source": [
    "K_means"
   ]
  },
  {
   "cell_type": "code",
   "execution_count": 4,
   "metadata": {},
   "outputs": [
    {
     "name": "stderr",
     "output_type": "stream",
     "text": [
      "C:\\Users\\david\\AppData\\Local\\Packages\\PythonSoftwareFoundation.Python.3.12_qbz5n2kfra8p0\\LocalCache\\local-packages\\Python312\\site-packages\\numpy\\core\\fromnumeric.py:3504: RuntimeWarning: Mean of empty slice.\n",
      "  return _methods._mean(a, axis=axis, dtype=dtype,\n",
      "C:\\Users\\david\\AppData\\Local\\Packages\\PythonSoftwareFoundation.Python.3.12_qbz5n2kfra8p0\\LocalCache\\local-packages\\Python312\\site-packages\\numpy\\core\\_methods.py:129: RuntimeWarning: invalid value encountered in scalar divide\n",
      "  ret = ret.dtype.type(ret / rcount)\n"
     ]
    },
    {
     "data": {
      "text/plain": [
       "<matplotlib.image.AxesImage at 0x270db7e6ff0>"
      ]
     },
     "execution_count": 4,
     "metadata": {},
     "output_type": "execute_result"
    },
    {
     "data": {
      "image/png": "[encoded data removed]",
      "text/plain": [
       "<Figure size 640x480 with 1 Axes>"
      ]
     },
     "metadata": {},
     "output_type": "display_data"
    }
   ],
   "source": [
    "PetiteBete = io.imread('Image/PetiteBete.pgm')\n",
    "PetiteBete = util.img_as_float(PetiteBete)\n",
    "\n",
    "def K_means(image, nb_clusters, nb_iter):\n",
    "    # Initialisation des centres\n",
    "    centres = np.zeros((nb_clusters, 2))\n",
    "    for i in range(nb_clusters):\n",
    "        centres[i] = np.random.uniform(0, 1, 2)\n",
    "    \n",
    "    # Initialisation des classes\n",
    "    classes = np.zeros((image.shape[0], image.shape[1]))\n",
    "    for i in range(image.shape[0]):\n",
    "        for j in range(image.shape[1]):\n",
    "            classes[i, j] = np.random.randint(0, nb_clusters)\n",
    "    \n",
    "    # Boucle d'optimisation\n",
    "    for n in range(nb_iter):\n",
    "        # Mise à jour des centres\n",
    "        for i in range(nb_clusters):\n",
    "            centres[i] = np.mean(image[classes == i], axis=0)\n",
    "        \n",
    "        # Mise à jour des classes\n",
    "        for i in range(image.shape[0]):\n",
    "            for j in range(image.shape[1]):\n",
    "                classes[i, j] = np.argmin(np.linalg.norm(image[i, j] - centres, axis=1))\n",
    "    \n",
    "    return classes, centres\n",
    "\n",
    "classes, centres = K_means(PetiteBete, 2, 10)\n",
    "plt.imshow(classes)\n"
   ]
  },
  {
   "cell_type": "code",
   "execution_count": null,
   "metadata": {},
   "outputs": [],
   "source": []
  },
  {
   "cell_type": "code",
   "execution_count": null,
   "metadata": {},
   "outputs": [],
   "source": []
  }
 ],
 "metadata": {
  "kernelspec": {
   "display_name": "Python 3",
   "language": "python",
   "name": "python3"
  },
  "language_info": {
   "codemirror_mode": {
    "name": "ipython",
    "version": 3
   },
   "file_extension": ".py",
   "mimetype": "text/x-python",
   "name": "python",
   "nbconvert_exporter": "python",
   "pygments_lexer": "ipython3",
   "version": "3.12.0"
  }
 },
 "nbformat": 4,
 "nbformat_minor": 2
}
